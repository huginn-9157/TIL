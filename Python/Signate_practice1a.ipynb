{
 "cells": [
  {
   "cell_type": "markdown",
   "metadata": {},
   "source": [
    "# 【練習問題】自動車の走行距離予測\n",
    "\n",
    "[リンク](https://signate.jp/competitions/121)\n",
    "\n",
    "やってみたけど、まったく歯が立たたない  \n",
    "解くのに何が必要なのかもわからない\n",
    "\n",
    "[｢自動車の走行距離予測｣に挑戦した話+上手く行かなかった事｡ - Explore _Full-Stack_ in depth!](https://drumato.hatenablog.com/entry/2018/10/12/233630)\n",
    "\n",
    ">課題種別としては多変量回帰問題に分類されます｡\n",
    "\n",
    "そもそも回帰って何だ  \n",
    "[多変量解析の手法 _ データ分析基礎知識](https://www.albert2005.co.jp/knowledge/statistics_analysis/multivariate_analysis/multivariate_method)\n",
    "\n",
    "\n",
    "SIGNATEの、データのロードから提出まで一連の流れを上のリンクの人がGitLab公開してくれている  \n",
    "[Drumato / SIGNATE_practice](https://gitlab.com/Drumato/SIGNATE_predict_car_mileage)\n",
    "\n",
    "ノートをGitLabで開くとやたら重いので、Colaboratoryでレンダリング  \n",
    "[xgboost.ipynb - Google Colaboratory](https://colab.research.google.com/github/Drumato/SIGNATE_practice/blob/master/car_mpg/input/xgboost.ipynb)"
   ]
  },
  {
   "cell_type": "markdown",
   "metadata": {},
   "source": [
    "----\n",
    "以下上リンクのコピペ\n"
   ]
  },
  {
   "cell_type": "code",
   "execution_count": 135,
   "metadata": {},
   "outputs": [],
   "source": [
    "import numpy as np\n",
    "import pandas as pd\n",
    "import matplotlib.pyplot as plt\n",
    "\n",
    "import sklearn.preprocessing as prc\n",
    "from sklearn.linear_model import LinearRegression\n",
    "from sklearn.metrics import mean_squared_error\n",
    "%matplotlib inline"
   ]
  },
  {
   "cell_type": "code",
   "execution_count": 136,
   "metadata": {},
   "outputs": [],
   "source": [
    "train_df = pd.read_csv('D:/Python/Jupyter/ds/train.tsv', sep='\\t',encoding='utf-8')\n",
    "test_df = pd.read_csv('D:/Python/Jupyter/ds/test.tsv', sep='\\t', encoding='utf-8')"
   ]
  },
  {
   "cell_type": "code",
   "execution_count": 137,
   "metadata": {},
   "outputs": [],
   "source": [
    "# 目的変数を退避\n",
    "target = train_df['mpg']"
   ]
  },
  {
   "cell_type": "code",
   "execution_count": 138,
   "metadata": {},
   "outputs": [
    {
     "data": {
      "text/html": [
       "<div>\n",
       "<style scoped>\n",
       "    .dataframe tbody tr th:only-of-type {\n",
       "        vertical-align: middle;\n",
       "    }\n",
       "\n",
       "    .dataframe tbody tr th {\n",
       "        vertical-align: top;\n",
       "    }\n",
       "\n",
       "    .dataframe thead th {\n",
       "        text-align: right;\n",
       "    }\n",
       "</style>\n",
       "<table border=\"1\" class=\"dataframe\">\n",
       "  <thead>\n",
       "    <tr style=\"text-align: right;\">\n",
       "      <th></th>\n",
       "      <th>index</th>\n",
       "      <th>id</th>\n",
       "      <th>cylinders</th>\n",
       "      <th>displacement</th>\n",
       "      <th>horsepower</th>\n",
       "      <th>weight</th>\n",
       "      <th>acceleration</th>\n",
       "      <th>model year</th>\n",
       "      <th>origin</th>\n",
       "      <th>car name</th>\n",
       "    </tr>\n",
       "  </thead>\n",
       "  <tbody>\n",
       "    <tr>\n",
       "      <th>0</th>\n",
       "      <td>0</td>\n",
       "      <td>0</td>\n",
       "      <td>4</td>\n",
       "      <td>135.0</td>\n",
       "      <td>84.0</td>\n",
       "      <td>2525.0</td>\n",
       "      <td>16.0</td>\n",
       "      <td>82</td>\n",
       "      <td>1</td>\n",
       "      <td>dodge aries se</td>\n",
       "    </tr>\n",
       "    <tr>\n",
       "      <th>1</th>\n",
       "      <td>1</td>\n",
       "      <td>3</td>\n",
       "      <td>4</td>\n",
       "      <td>89.0</td>\n",
       "      <td>71.0</td>\n",
       "      <td>1925.0</td>\n",
       "      <td>14.0</td>\n",
       "      <td>79</td>\n",
       "      <td>2</td>\n",
       "      <td>vw rabbit custom</td>\n",
       "    </tr>\n",
       "    <tr>\n",
       "      <th>2</th>\n",
       "      <td>2</td>\n",
       "      <td>9</td>\n",
       "      <td>6</td>\n",
       "      <td>156.0</td>\n",
       "      <td>108.0</td>\n",
       "      <td>2930.0</td>\n",
       "      <td>15.5</td>\n",
       "      <td>76</td>\n",
       "      <td>3</td>\n",
       "      <td>toyota mark ii</td>\n",
       "    </tr>\n",
       "    <tr>\n",
       "      <th>3</th>\n",
       "      <td>3</td>\n",
       "      <td>11</td>\n",
       "      <td>4</td>\n",
       "      <td>90.0</td>\n",
       "      <td>75.0</td>\n",
       "      <td>2125.0</td>\n",
       "      <td>14.5</td>\n",
       "      <td>74</td>\n",
       "      <td>1</td>\n",
       "      <td>dodge colt</td>\n",
       "    </tr>\n",
       "    <tr>\n",
       "      <th>4</th>\n",
       "      <td>4</td>\n",
       "      <td>13</td>\n",
       "      <td>4</td>\n",
       "      <td>89.0</td>\n",
       "      <td>62.0</td>\n",
       "      <td>2050.0</td>\n",
       "      <td>17.3</td>\n",
       "      <td>81</td>\n",
       "      <td>3</td>\n",
       "      <td>toyota tercel</td>\n",
       "    </tr>\n",
       "  </tbody>\n",
       "</table>\n",
       "</div>"
      ],
      "text/plain": [
       "   index  id  cylinders  displacement  horsepower  weight  acceleration  \\\n",
       "0      0   0          4         135.0        84.0  2525.0          16.0   \n",
       "1      1   3          4          89.0        71.0  1925.0          14.0   \n",
       "2      2   9          6         156.0       108.0  2930.0          15.5   \n",
       "3      3  11          4          90.0        75.0  2125.0          14.5   \n",
       "4      4  13          4          89.0        62.0  2050.0          17.3   \n",
       "\n",
       "   model year  origin          car name  \n",
       "0          82       1    dodge aries se  \n",
       "1          79       2  vw rabbit custom  \n",
       "2          76       3    toyota mark ii  \n",
       "3          74       1        dodge colt  \n",
       "4          81       3     toyota tercel  "
      ]
     },
     "execution_count": 138,
     "metadata": {},
     "output_type": "execute_result"
    }
   ],
   "source": [
    "# merge train and test\n",
    "total_df = pd.concat([train_df.drop('mpg',axis=1),test_df])\n",
    "total_df.reset_index(drop=True,inplace=True)\n",
    "total_df.reset_index(inplace=True)\n",
    "total_df.head()"
   ]
  },
  {
   "cell_type": "code",
   "execution_count": 139,
   "metadata": {},
   "outputs": [],
   "source": [
    "# 車名を排除\n",
    "total_df.drop('car name',axis=1,inplace=True)"
   ]
  },
  {
   "cell_type": "code",
   "execution_count": 140,
   "metadata": {},
   "outputs": [
    {
     "data": {
      "text/html": [
       "<div>\n",
       "<style scoped>\n",
       "    .dataframe tbody tr th:only-of-type {\n",
       "        vertical-align: middle;\n",
       "    }\n",
       "\n",
       "    .dataframe tbody tr th {\n",
       "        vertical-align: top;\n",
       "    }\n",
       "\n",
       "    .dataframe thead th {\n",
       "        text-align: right;\n",
       "    }\n",
       "</style>\n",
       "<table border=\"1\" class=\"dataframe\">\n",
       "  <thead>\n",
       "    <tr style=\"text-align: right;\">\n",
       "      <th></th>\n",
       "      <th>index</th>\n",
       "      <th>id</th>\n",
       "      <th>cylinders</th>\n",
       "      <th>displacement</th>\n",
       "      <th>horsepower</th>\n",
       "      <th>weight</th>\n",
       "      <th>acceleration</th>\n",
       "      <th>model year</th>\n",
       "      <th>origin</th>\n",
       "    </tr>\n",
       "  </thead>\n",
       "  <tbody>\n",
       "    <tr>\n",
       "      <th>count</th>\n",
       "      <td>392.000000</td>\n",
       "      <td>392.000000</td>\n",
       "      <td>392.000000</td>\n",
       "      <td>392.000000</td>\n",
       "      <td>392.000000</td>\n",
       "      <td>392.000000</td>\n",
       "      <td>392.000000</td>\n",
       "      <td>392.000000</td>\n",
       "      <td>392.000000</td>\n",
       "    </tr>\n",
       "    <tr>\n",
       "      <th>mean</th>\n",
       "      <td>195.500000</td>\n",
       "      <td>198.278061</td>\n",
       "      <td>5.471939</td>\n",
       "      <td>194.411990</td>\n",
       "      <td>104.469388</td>\n",
       "      <td>2977.584184</td>\n",
       "      <td>15.541327</td>\n",
       "      <td>75.979592</td>\n",
       "      <td>1.576531</td>\n",
       "    </tr>\n",
       "    <tr>\n",
       "      <th>std</th>\n",
       "      <td>113.304898</td>\n",
       "      <td>115.266207</td>\n",
       "      <td>1.705783</td>\n",
       "      <td>104.644004</td>\n",
       "      <td>38.491160</td>\n",
       "      <td>849.402560</td>\n",
       "      <td>2.758864</td>\n",
       "      <td>3.683737</td>\n",
       "      <td>0.805518</td>\n",
       "    </tr>\n",
       "    <tr>\n",
       "      <th>min</th>\n",
       "      <td>0.000000</td>\n",
       "      <td>0.000000</td>\n",
       "      <td>3.000000</td>\n",
       "      <td>68.000000</td>\n",
       "      <td>46.000000</td>\n",
       "      <td>1613.000000</td>\n",
       "      <td>8.000000</td>\n",
       "      <td>70.000000</td>\n",
       "      <td>1.000000</td>\n",
       "    </tr>\n",
       "    <tr>\n",
       "      <th>25%</th>\n",
       "      <td>97.750000</td>\n",
       "      <td>98.750000</td>\n",
       "      <td>4.000000</td>\n",
       "      <td>105.000000</td>\n",
       "      <td>75.000000</td>\n",
       "      <td>2225.250000</td>\n",
       "      <td>13.775000</td>\n",
       "      <td>73.000000</td>\n",
       "      <td>1.000000</td>\n",
       "    </tr>\n",
       "    <tr>\n",
       "      <th>50%</th>\n",
       "      <td>195.500000</td>\n",
       "      <td>197.500000</td>\n",
       "      <td>4.000000</td>\n",
       "      <td>151.000000</td>\n",
       "      <td>93.500000</td>\n",
       "      <td>2803.500000</td>\n",
       "      <td>15.500000</td>\n",
       "      <td>76.000000</td>\n",
       "      <td>1.000000</td>\n",
       "    </tr>\n",
       "    <tr>\n",
       "      <th>75%</th>\n",
       "      <td>293.250000</td>\n",
       "      <td>298.250000</td>\n",
       "      <td>8.000000</td>\n",
       "      <td>275.750000</td>\n",
       "      <td>126.000000</td>\n",
       "      <td>3614.750000</td>\n",
       "      <td>17.025000</td>\n",
       "      <td>79.000000</td>\n",
       "      <td>2.000000</td>\n",
       "    </tr>\n",
       "    <tr>\n",
       "      <th>max</th>\n",
       "      <td>391.000000</td>\n",
       "      <td>397.000000</td>\n",
       "      <td>8.000000</td>\n",
       "      <td>455.000000</td>\n",
       "      <td>230.000000</td>\n",
       "      <td>5140.000000</td>\n",
       "      <td>24.800000</td>\n",
       "      <td>82.000000</td>\n",
       "      <td>3.000000</td>\n",
       "    </tr>\n",
       "  </tbody>\n",
       "</table>\n",
       "</div>"
      ],
      "text/plain": [
       "            index          id   cylinders  displacement  horsepower  \\\n",
       "count  392.000000  392.000000  392.000000    392.000000  392.000000   \n",
       "mean   195.500000  198.278061    5.471939    194.411990  104.469388   \n",
       "std    113.304898  115.266207    1.705783    104.644004   38.491160   \n",
       "min      0.000000    0.000000    3.000000     68.000000   46.000000   \n",
       "25%     97.750000   98.750000    4.000000    105.000000   75.000000   \n",
       "50%    195.500000  197.500000    4.000000    151.000000   93.500000   \n",
       "75%    293.250000  298.250000    8.000000    275.750000  126.000000   \n",
       "max    391.000000  397.000000    8.000000    455.000000  230.000000   \n",
       "\n",
       "            weight  acceleration  model year      origin  \n",
       "count   392.000000    392.000000  392.000000  392.000000  \n",
       "mean   2977.584184     15.541327   75.979592    1.576531  \n",
       "std     849.402560      2.758864    3.683737    0.805518  \n",
       "min    1613.000000      8.000000   70.000000    1.000000  \n",
       "25%    2225.250000     13.775000   73.000000    1.000000  \n",
       "50%    2803.500000     15.500000   76.000000    1.000000  \n",
       "75%    3614.750000     17.025000   79.000000    2.000000  \n",
       "max    5140.000000     24.800000   82.000000    3.000000  "
      ]
     },
     "execution_count": 140,
     "metadata": {},
     "output_type": "execute_result"
    }
   ],
   "source": [
    "total_df.describe()"
   ]
  },
  {
   "cell_type": "code",
   "execution_count": 141,
   "metadata": {},
   "outputs": [
    {
     "data": {
      "text/plain": [
       "array([0.17312661, 0.05426357, 0.22739018, 0.05684755, 0.05426357,\n",
       "       0.21447028, 0.47028424, 0.72868217, 0.1369509 , 0.64599483,\n",
       "       0.25839793, 0.09560724, 0.0749354 , 0.72868217, 0.42377261,\n",
       "       0.07235142, 0.07751938, 0.07751938, 0.18863049, 0.25839793,\n",
       "       0.13953488, 0.60465116, 0.10335917, 0.6124031 , 0.34108527,\n",
       "       0.85788114, 0.17312661, 0.47028424, 0.50129199, 0.07751938,\n",
       "       0.47028424, 0.05426357, 0.02842377, 0.1369509 , 0.00775194,\n",
       "       0.49095607, 0.0749354 , 0.13436693, 0.18604651, 0.05684755,\n",
       "       0.17312661, 0.42377261, 0.42377261, 0.13953488, 0.18604651,\n",
       "       0.72868217, 0.40568475, 0.03359173, 0.05943152, 0.12403101,\n",
       "       0.47028424, 0.13178295, 0.11369509, 0.18604651, 0.13178295,\n",
       "       0.75452196, 0.05167959, 0.60981912, 0.10335917, 0.05684755,\n",
       "       0.1369509 , 0.05426357, 0.73126615, 0.13436693, 0.0749354 ,\n",
       "       0.18604651, 0.72868217, 0.60465116, 0.99741602, 0.07751938,\n",
       "       0.12403101, 0.13178295, 0.17312661, 0.29198966, 0.93281654,\n",
       "       0.13436693, 0.60465116, 0.20155039, 0.42377261, 0.0749354 ,\n",
       "       0.64599483, 0.47028424, 0.61757106, 0.81395349, 0.04651163,\n",
       "       0.02842377, 0.11369509, 0.13953488, 0.04392765, 0.05684755,\n",
       "       0.18604651, 0.13953488, 0.34108527, 0.07751938, 0.73126615,\n",
       "       0.13436693, 0.0749354 , 0.09560724, 0.64599483, 0.04392765,\n",
       "       0.05426357, 0.05943152, 0.18604651, 0.49095607, 0.02067183,\n",
       "       0.64599483, 0.1369509 , 0.47028424, 0.21447028, 0.0749354 ,\n",
       "       0.42118863, 0.40568475, 0.20155039, 0.20155039, 0.49095607,\n",
       "       0.04392765, 0.72868217, 0.05684755, 0.64599483, 0.18604651,\n",
       "       0.09560724, 0.07751938, 0.0749354 , 0.73126615, 0.1369509 ,\n",
       "       0.13953488, 0.42118863, 0.27131783, 0.60465116, 0.02842377,\n",
       "       0.72868217, 0.60465116, 0.07751938, 0.1369509 , 0.22739018,\n",
       "       0.22739018, 0.40568475, 0.50129199, 0.09560724, 0.61757106,\n",
       "       0.17054264, 0.09560724, 0.0749354 , 0.21447028, 0.42118863,\n",
       "       0.64599483, 0.40568475, 0.42377261, 0.73126615, 0.18604651,\n",
       "       0.72868217, 0.0749354 , 0.00775194, 0.42118863, 0.13178295,\n",
       "       0.03875969, 0.47028424, 0.17312661, 0.19638243, 0.42377261,\n",
       "       0.81395349, 0.40568475, 0.60465116, 0.18604651, 0.09302326,\n",
       "       0.18604651, 0.07751938, 0.96124031, 0.03100775, 0.02583979,\n",
       "       0.10077519, 0.83204134, 0.17054264, 0.49612403, 0.64599483,\n",
       "       0.18604651, 0.01033592, 0.42118863, 0.6124031 , 0.42118863,\n",
       "       0.85788114, 0.42377261, 0.21447028, 0.64599483, 0.11627907,\n",
       "       0.09560724, 0.1369509 , 0.33850129, 0.85788114, 0.42377261,\n",
       "       0.04392765, 0.60465116, 0.60981912, 0.05684755, 0.07751938,\n",
       "       0.19896641, 0.47028424, 0.13178295, 0.49095607, 0.0749354 ,\n",
       "       0.10077519, 0.64599483, 0.42118863, 0.21447028, 0.42377261,\n",
       "       0.85788114, 0.0749354 , 0.85788114, 0.10335917, 0.07751938,\n",
       "       0.64599483, 0.10852713, 0.29715762, 0.60465116, 0.02842377,\n",
       "       0.12403101, 0.05684755, 0.64599483, 0.85788114, 0.72868217,\n",
       "       0.85788114, 0.60981912, 0.33850129, 0.21447028, 0.05684755,\n",
       "       0.05943152, 0.33591731, 0.05943152, 0.96124031, 0.33591731,\n",
       "       0.11369509, 0.04392765, 0.40568475, 0.21447028, 0.0749354 ,\n",
       "       0.72868217, 0.0749354 , 0.13436693, 0.        , 0.13436693,\n",
       "       0.05943152, 0.09560724, 0.33591731, 0.1627907 , 0.0749354 ,\n",
       "       0.21447028, 0.11627907, 0.07751938, 0.40568475, 0.18604651,\n",
       "       0.73126615, 0.60981912, 0.02842377, 0.60981912, 0.49612403,\n",
       "       0.60981912, 0.0749354 , 0.13436693, 0.60465116, 0.18604651,\n",
       "       0.64599483, 0.05943152, 0.18604651, 0.47028424, 0.85788114,\n",
       "       0.00516796, 0.10335917, 0.75452196, 0.05943152, 0.00516796,\n",
       "       0.47028424, 0.72868217, 0.85788114, 0.51421189, 0.0749354 ,\n",
       "       0.04651163, 0.22739018, 0.27131783, 0.13953488, 0.05943152,\n",
       "       0.40568475, 0.72868217, 0.64599483, 0.61757106, 0.1369509 ,\n",
       "       0.11369509, 0.64599483, 0.1369509 , 0.47028424, 0.85788114,\n",
       "       0.10077519, 0.07622739, 0.93281654, 0.10335917, 0.04392765,\n",
       "       0.07751938, 0.47028424, 0.49095607, 0.11627907, 0.07751938,\n",
       "       0.42377261, 0.6124031 , 0.40568475, 0.47028424, 0.73126615,\n",
       "       0.13953488, 0.07751938, 0.93281654, 0.0749354 , 0.60465116,\n",
       "       0.72868217, 0.42118863, 0.49612403, 0.05943152, 0.85788114,\n",
       "       0.73126615, 0.34108527, 0.75452196, 0.47028424, 0.16020672,\n",
       "       0.34108527, 0.72868217, 0.0749354 , 0.07751938, 0.10077519,\n",
       "       0.1369509 , 0.6124031 , 0.72868217, 0.40568475, 0.24547804,\n",
       "       0.18863049, 0.13436693, 0.21447028, 0.0749354 , 0.75452196,\n",
       "       0.22739018, 0.70284238, 0.72868217, 0.0749354 , 0.40568475,\n",
       "       0.07751938, 0.12403101, 0.47028424, 0.34108527, 1.        ,\n",
       "       0.13178295, 0.27131783, 0.34108527, 0.02842377, 0.72868217,\n",
       "       0.05943152, 0.60981912, 0.85788114, 0.05943152, 0.34108527,\n",
       "       0.05943152, 0.17054264, 1.        , 0.40568475, 0.47028424,\n",
       "       0.18604651, 0.26614987, 1.        , 0.64599483, 0.04651163,\n",
       "       0.42377261, 0.64599483, 0.1369509 , 0.17054264, 0.47028424,\n",
       "       0.08527132, 0.13436693, 0.72868217, 0.60465116, 0.24547804,\n",
       "       0.04392765, 0.73126615, 0.12144703, 0.64599483, 0.07751938,\n",
       "       0.72868217, 0.00516796, 0.2248062 , 0.04651163, 0.25839793,\n",
       "       0.40568475, 0.10077519, 0.11886305, 0.22739018, 0.11111111,\n",
       "       0.85788114, 0.0749354 ])"
      ]
     },
     "execution_count": 141,
     "metadata": {},
     "output_type": "execute_result"
    }
   ],
   "source": [
    "# 重さと排気量の幅が大きいので、最大最小スケーリング\n",
    "prc.minmax_scale(total_df['weight'], copy=False)\n",
    "prc.minmax_scale(total_df['displacement'],copy=False)"
   ]
  },
  {
   "cell_type": "code",
   "execution_count": 142,
   "metadata": {},
   "outputs": [],
   "source": [
    "research = train_df.copy() #テストデータのパターンを分析しないように訓練データから複製したものでデータ分析"
   ]
  },
  {
   "cell_type": "code",
   "execution_count": 143,
   "metadata": {},
   "outputs": [
    {
     "data": {
      "text/plain": [
       "<matplotlib.axes._subplots.AxesSubplot at 0xf97d270>"
      ]
     },
     "execution_count": 143,
     "metadata": {},
     "output_type": "execute_result"
    },
    {
     "data": {
      "image/png": "[encoded data removed]",
      "text/plain": [
       "<Figure size 432x288 with 1 Axes>"
      ]
     },
     "metadata": {
      "needs_background": "light"
     },
     "output_type": "display_data"
    }
   ],
   "source": [
    "#重い程燃費が悪い\n",
    "research.plot(kind='scatter', x='weight', y='mpg')"
   ]
  },
  {
   "cell_type": "code",
   "execution_count": 144,
   "metadata": {},
   "outputs": [
    {
     "data": {
      "text/plain": [
       "<matplotlib.axes._subplots.AxesSubplot at 0xf9c1ab0>"
      ]
     },
     "execution_count": 144,
     "metadata": {},
     "output_type": "execute_result"
    },
    {
     "data": {
      "image/png": "[encoded data removed]",
      "text/plain": [
       "<Figure size 432x288 with 1 Axes>"
      ]
     },
     "metadata": {
      "needs_background": "light"
     },
     "output_type": "display_data"
    }
   ],
   "source": [
    "#シリンダー数が多い程燃費は悪くなる\n",
    "research.plot(kind='scatter',x='cylinders',y='mpg')"
   ]
  },
  {
   "cell_type": "code",
   "execution_count": 145,
   "metadata": {},
   "outputs": [
    {
     "data": {
      "text/plain": [
       "<matplotlib.axes._subplots.AxesSubplot at 0xf9d3e30>"
      ]
     },
     "execution_count": 145,
     "metadata": {},
     "output_type": "execute_result"
    },
    {
     "data": {
      "image/png": "[encoded data removed]",
      "text/plain": [
       "<Figure size 432x288 with 1 Axes>"
      ]
     },
     "metadata": {
      "needs_background": "light"
     },
     "output_type": "display_data"
    }
   ],
   "source": [
    "#変位が大きい程燃費が悪くなる\n",
    "research.plot(kind='scatter',x='displacement',y='mpg')"
   ]
  },
  {
   "cell_type": "code",
   "execution_count": 146,
   "metadata": {},
   "outputs": [
    {
     "data": {
      "text/plain": [
       "<matplotlib.axes._subplots.AxesSubplot at 0xf9fdd30>"
      ]
     },
     "execution_count": 146,
     "metadata": {},
     "output_type": "execute_result"
    },
    {
     "data": {
      "image/png": "[encoded data removed]",
      "text/plain": [
       "<Figure size 432x288 with 1 Axes>"
      ]
     },
     "metadata": {
      "needs_background": "light"
     },
     "output_type": "display_data"
    }
   ],
   "source": [
    "#わずかに正の相関&ばらつきが強い\n",
    "research.plot(kind='scatter',x='acceleration',y='mpg')"
   ]
  },
  {
   "cell_type": "code",
   "execution_count": 147,
   "metadata": {},
   "outputs": [
    {
     "data": {
      "text/html": [
       "<div>\n",
       "<style scoped>\n",
       "    .dataframe tbody tr th:only-of-type {\n",
       "        vertical-align: middle;\n",
       "    }\n",
       "\n",
       "    .dataframe tbody tr th {\n",
       "        vertical-align: top;\n",
       "    }\n",
       "\n",
       "    .dataframe thead th {\n",
       "        text-align: right;\n",
       "    }\n",
       "</style>\n",
       "<table border=\"1\" class=\"dataframe\">\n",
       "  <thead>\n",
       "    <tr style=\"text-align: right;\">\n",
       "      <th></th>\n",
       "      <th>id</th>\n",
       "      <th>mpg</th>\n",
       "      <th>cylinders</th>\n",
       "      <th>displacement</th>\n",
       "      <th>horsepower</th>\n",
       "      <th>weight</th>\n",
       "      <th>acceleration</th>\n",
       "      <th>model year</th>\n",
       "      <th>origin</th>\n",
       "    </tr>\n",
       "  </thead>\n",
       "  <tbody>\n",
       "    <tr>\n",
       "      <th>id</th>\n",
       "      <td>1.000000</td>\n",
       "      <td>-0.066567</td>\n",
       "      <td>0.109526</td>\n",
       "      <td>0.109085</td>\n",
       "      <td>0.083254</td>\n",
       "      <td>0.086323</td>\n",
       "      <td>-0.088383</td>\n",
       "      <td>-0.082099</td>\n",
       "      <td>-0.034860</td>\n",
       "    </tr>\n",
       "    <tr>\n",
       "      <th>mpg</th>\n",
       "      <td>-0.066567</td>\n",
       "      <td>1.000000</td>\n",
       "      <td>-0.773889</td>\n",
       "      <td>-0.806195</td>\n",
       "      <td>-0.791419</td>\n",
       "      <td>-0.821364</td>\n",
       "      <td>0.384631</td>\n",
       "      <td>0.569926</td>\n",
       "      <td>0.535130</td>\n",
       "    </tr>\n",
       "    <tr>\n",
       "      <th>cylinders</th>\n",
       "      <td>0.109526</td>\n",
       "      <td>-0.773889</td>\n",
       "      <td>1.000000</td>\n",
       "      <td>0.950627</td>\n",
       "      <td>0.851572</td>\n",
       "      <td>0.894891</td>\n",
       "      <td>-0.473792</td>\n",
       "      <td>-0.300641</td>\n",
       "      <td>-0.504343</td>\n",
       "    </tr>\n",
       "    <tr>\n",
       "      <th>displacement</th>\n",
       "      <td>0.109085</td>\n",
       "      <td>-0.806195</td>\n",
       "      <td>0.950627</td>\n",
       "      <td>1.000000</td>\n",
       "      <td>0.894965</td>\n",
       "      <td>0.933037</td>\n",
       "      <td>-0.522269</td>\n",
       "      <td>-0.330437</td>\n",
       "      <td>-0.585637</td>\n",
       "    </tr>\n",
       "    <tr>\n",
       "      <th>horsepower</th>\n",
       "      <td>0.083254</td>\n",
       "      <td>-0.791419</td>\n",
       "      <td>0.851572</td>\n",
       "      <td>0.894965</td>\n",
       "      <td>1.000000</td>\n",
       "      <td>0.872336</td>\n",
       "      <td>-0.661741</td>\n",
       "      <td>-0.384597</td>\n",
       "      <td>-0.421929</td>\n",
       "    </tr>\n",
       "    <tr>\n",
       "      <th>weight</th>\n",
       "      <td>0.086323</td>\n",
       "      <td>-0.821364</td>\n",
       "      <td>0.894891</td>\n",
       "      <td>0.933037</td>\n",
       "      <td>0.872336</td>\n",
       "      <td>1.000000</td>\n",
       "      <td>-0.401164</td>\n",
       "      <td>-0.269779</td>\n",
       "      <td>-0.540432</td>\n",
       "    </tr>\n",
       "    <tr>\n",
       "      <th>acceleration</th>\n",
       "      <td>-0.088383</td>\n",
       "      <td>0.384631</td>\n",
       "      <td>-0.473792</td>\n",
       "      <td>-0.522269</td>\n",
       "      <td>-0.661741</td>\n",
       "      <td>-0.401164</td>\n",
       "      <td>1.000000</td>\n",
       "      <td>0.191584</td>\n",
       "      <td>0.202153</td>\n",
       "    </tr>\n",
       "    <tr>\n",
       "      <th>model year</th>\n",
       "      <td>-0.082099</td>\n",
       "      <td>0.569926</td>\n",
       "      <td>-0.300641</td>\n",
       "      <td>-0.330437</td>\n",
       "      <td>-0.384597</td>\n",
       "      <td>-0.269779</td>\n",
       "      <td>0.191584</td>\n",
       "      <td>1.000000</td>\n",
       "      <td>0.121555</td>\n",
       "    </tr>\n",
       "    <tr>\n",
       "      <th>origin</th>\n",
       "      <td>-0.034860</td>\n",
       "      <td>0.535130</td>\n",
       "      <td>-0.504343</td>\n",
       "      <td>-0.585637</td>\n",
       "      <td>-0.421929</td>\n",
       "      <td>-0.540432</td>\n",
       "      <td>0.202153</td>\n",
       "      <td>0.121555</td>\n",
       "      <td>1.000000</td>\n",
       "    </tr>\n",
       "  </tbody>\n",
       "</table>\n",
       "</div>"
      ],
      "text/plain": [
       "                    id       mpg  cylinders  displacement  horsepower  \\\n",
       "id            1.000000 -0.066567   0.109526      0.109085    0.083254   \n",
       "mpg          -0.066567  1.000000  -0.773889     -0.806195   -0.791419   \n",
       "cylinders     0.109526 -0.773889   1.000000      0.950627    0.851572   \n",
       "displacement  0.109085 -0.806195   0.950627      1.000000    0.894965   \n",
       "horsepower    0.083254 -0.791419   0.851572      0.894965    1.000000   \n",
       "weight        0.086323 -0.821364   0.894891      0.933037    0.872336   \n",
       "acceleration -0.088383  0.384631  -0.473792     -0.522269   -0.661741   \n",
       "model year   -0.082099  0.569926  -0.300641     -0.330437   -0.384597   \n",
       "origin       -0.034860  0.535130  -0.504343     -0.585637   -0.421929   \n",
       "\n",
       "                weight  acceleration  model year    origin  \n",
       "id            0.086323     -0.088383   -0.082099 -0.034860  \n",
       "mpg          -0.821364      0.384631    0.569926  0.535130  \n",
       "cylinders     0.894891     -0.473792   -0.300641 -0.504343  \n",
       "displacement  0.933037     -0.522269   -0.330437 -0.585637  \n",
       "horsepower    0.872336     -0.661741   -0.384597 -0.421929  \n",
       "weight        1.000000     -0.401164   -0.269779 -0.540432  \n",
       "acceleration -0.401164      1.000000    0.191584  0.202153  \n",
       "model year   -0.269779      0.191584    1.000000  0.121555  \n",
       "origin       -0.540432      0.202153    0.121555  1.000000  "
      ]
     },
     "execution_count": 147,
     "metadata": {},
     "output_type": "execute_result"
    }
   ],
   "source": [
    "#新しければ燃費がよくなる,\n",
    "research.corr()"
   ]
  },
  {
   "cell_type": "code",
   "execution_count": 148,
   "metadata": {},
   "outputs": [],
   "source": [
    "# 抽出条件\n",
    "train_df = total_df.query('index <= 194')\n",
    "test_df = total_df.query('index > 194')\n",
    "\n",
    "train_X = train_df.drop(['id'], axis=1)\n",
    "train_y = target\n",
    "test_X = test_df.drop(['id'], axis=1)"
   ]
  },
  {
   "cell_type": "code",
   "execution_count": 149,
   "metadata": {},
   "outputs": [
    {
     "data": {
      "text/plain": [
       "LinearRegression(copy_X=True, fit_intercept=True, n_jobs=None,\n",
       "         normalize=False)"
      ]
     },
     "execution_count": 149,
     "metadata": {},
     "output_type": "execute_result"
    }
   ],
   "source": [
    "linregmodel = LinearRegression()\n",
    "linregmodel.fit(train_X,train_y)"
   ]
  },
  {
   "cell_type": "code",
   "execution_count": 150,
   "metadata": {},
   "outputs": [],
   "source": [
    "# Predict\n",
    "train_y_pred = linregmodel.predict(train_X)\n",
    "test_y_pred = linregmodel.predict(test_X)"
   ]
  },
  {
   "cell_type": "code",
   "execution_count": 151,
   "metadata": {},
   "outputs": [
    {
     "name": "stdout",
     "output_type": "stream",
     "text": [
      "train accuracy:3.212062765438651\n"
     ]
    }
   ],
   "source": [
    "# 訓練データに対するスコアを確認\n",
    "train_acc = np.sqrt(mean_squared_error(train_y,train_y_pred))\n",
    "print(f'train accuracy:{train_acc}')"
   ]
  },
  {
   "cell_type": "code",
   "execution_count": 152,
   "metadata": {},
   "outputs": [],
   "source": [
    "test_df = pd.read_csv('D:/Python/Jupyter/ds/test.tsv',delimiter='\\t')\n",
    "result_df = pd.DataFrame(test_y_pred,test_df['id'])"
   ]
  },
  {
   "cell_type": "code",
   "execution_count": 153,
   "metadata": {},
   "outputs": [],
   "source": [
    "result_df.to_csv('LinearRegression_pred.csv',header=False)"
   ]
  }
 ],
 "metadata": {
  "kernelspec": {
   "display_name": "Python 3",
   "language": "python",
   "name": "python3"
  },
  "language_info": {
   "codemirror_mode": {
    "name": "ipython",
    "version": 3
   },
   "file_extension": ".py",
   "mimetype": "text/x-python",
   "name": "python",
   "nbconvert_exporter": "python",
   "pygments_lexer": "ipython3",
   "version": "3.7.2"
  }
 },
 "nbformat": 4,
 "nbformat_minor": 2
}
